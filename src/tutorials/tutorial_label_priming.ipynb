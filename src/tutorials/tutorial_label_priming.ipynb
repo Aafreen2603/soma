{
 "cells": [
  {
   "cell_type": "markdown",
   "metadata": {
    "pycharm": {
     "name": "#%% md\n"
    }
   },
   "source": [
    "## Label Priming\n",
    "To produce a synthetic mocap dataset for training SOMA, the algorithm requires instructions to place virtual markers on the synthetic body; i.e. markerlayout.\n",
    "In the SOMA paper we use one labeled frame per *significant variation of the markerlayout* to estimate the markerlayout(s).\n",
    "This is an easy requirement for a simple and well-documented dataset.\n",
    "However, if there are many variations across the dataset with many markers used for the captures, as in the CMUII and Mixamo datasets of the paper, this process can get cumbersome.\n",
    "The issue is that it needs a human expert in the loop to identify points in the MPC and assign them to a marker.\n",
    "This would be bottleneck for major datasets.\n",
    "\n",
    "As a remedy, we provide a \"general\" SOMA model trained on a super markerset, i.e. SuperSet, containing 89 common markers used in mocap setups.\n",
    "\n",
    "<img alt=\"alt text\" height=\"256\" src=\"https://download.is.tue.mpg.de/soma/tutorials/superset.png\"\n",
    "title=\"a mocap superset with 89 markers\" width=\"256\"/>\n",
    "\n",
    "One can blindly run the SuperSet SOMA model on given marker-based mocap point cloud data and\n",
    "SOMA will assign disjoint label from the SuperSet to each point.\n",
    "These labels are usually good and only one or two swaps/mislabels can happen in difficult scenarios.\n",
    "Nevertheless, even the somehow perfect results, make the process of finding significant variations of the markerlayouts and labeling one frame per each much easier.\n",
    "In addition, it removes the requirement of an expert mocap technician in the loop, as one gets an idea of what a point should be labeled as.\n",
    "\n",
    "You can open [this sample c3d file](https://download.is.tue.mpg.de/soma/tutorials/SuperSet_89_markers.c3d) in\n",
    "[Mokka](https://biomechanical-toolkit.github.io/mokka/)\n",
    "for interactive visualization of the markers in the SuperSet.\n",
    "\n",
    "We assume you have already gone through the  [Running SOMA on SOMA dataset](src/tutorials/runing_soma_on_soma_dataset.ipynb) tutorial and\n",
    "that you have the required folder structure in place.\n",
    "\n",
    "Let's apply our SuperSet SOMA model to the SOMA dataset's MPC data and see the results.\n",
    "We assume you have already gone through the  [Running SOMA on SOMA dataset](src/tutorials/runing_soma_on_soma_dataset.ipynb) tutorial and\n",
    "that you have the required folder structure in place.\n",
    "\n",
    "Download the\n",
    "[pre-trained SuperSet SOMA model](https://download.is.tue.mpg.de/download.php?domain=soma&sfile=training_experiments/V48_02_SuperSet.tar.bz2)\n",
    "and place it under\n",
    "```` training_experiments/V48_02_SuperSet  ````- Also download the \n",
    "[corresponding data file](https://download.is.tue.mpg.de/download.php?domain=soma&sfile=smplx/data/V48_01_SuperSet.tar.bz2) and place it at \n",
    "```` data/V48_02_SuperSet  ````-\n",
    "\n",
    "Now let's run the SuperSet model on *SOMA_unlabeled_mpc* data that we\n",
    "[obtained before](src/tutorials/runing_soma_on_soma_dataset.ipynb).\n",
    "But first, let's make sure our mocaps are in good shape.\n",
    "\n",
    "One has to make sure of two things when running SOMA on mocap point clouds.\n",
    "First, the unit of the points should be known, and one should pass it to the algorithm along with the mocaps.\n",
    "For c3d files, the default unit is *mm*, yet this can be different.\n",
    "\n",
    "Furthermore, SOMA expects to receive mocaps with Z-axis up.\n",
    "If that is not the case then you need to properly rotate the mocaps via\n",
    "```` 'mocap.rotate': [X, Y,  Z] ```` while the xyz values are in degrees around that axis.\n",
    "\n",
    "One way to avoid issues is to visualize your mocaps. For that, you can use\n",
    "```` from moshpp.tools.mocap_interface import MocapSession  ````.\n",
    "\n",
    "As a hint, when displaying your mocaps with MoCapSession you should always see the points from above, \n",
    "like this subject standing in T-Pose:\n",
    "\n",
    "![alt text](https://download.is.tue.mpg.de/soma/tutorials/correct_mocap.png).\n",
    "\n",
    "If you don't see any points then you probably need to change the units, and if the view is not from above then\n",
    "play with rotation until you get it similar to the picture above.\n",
    "\n",
    "With this quick pre-check, let's get to actual label priming."
   ]
  },
  {
   "cell_type": "code",
   "execution_count": 7,
   "metadata": {
    "collapsed": false,
    "jupyter": {
     "outputs_hidden": false
    },
    "pycharm": {
     "name": "#%%\n"
    }
   },
   "outputs": [
    {
     "name": "stdout",
     "output_type": "stream",
     "text": [
      "The autoreload extension is already loaded. To reload it, use:\n",
      "  %reload_ext autoreload\n"
     ]
    }
   ],
   "source": [
    "%load_ext autoreload\n",
    "%autoreload 2\n",
    "%matplotlib notebook\n",
    "%matplotlib inline"
   ]
  },
  {
   "cell_type": "code",
   "execution_count": 8,
   "metadata": {},
   "outputs": [],
   "source": [
    "import os.path as osp\n",
    "import numpy as np\n",
    "from soma.tools.run_soma_multiple import run_soma_on_multiple_settings"
   ]
  },
  {
   "cell_type": "code",
   "execution_count": 5,
   "metadata": {
    "collapsed": false,
    "jupyter": {
     "outputs_hidden": false
    },
    "pycharm": {
     "name": "#%%\n"
    }
   },
   "outputs": [],
   "source": [
    "soma_expr_id = 'V48_02_SuperSet'\n",
    "\n",
    "soma_work_base_dir = '/home/nghorbani/Desktop/SOMA_Test'\n",
    "support_base_dir = osp.join(soma_work_base_dir, 'support_files')\n",
    "\n",
    "mocap_base_dir = osp.join(support_base_dir, 'evaluation_mocaps/original')"
   ]
  },
  {
   "cell_type": "code",
   "execution_count": 9,
   "metadata": {
    "collapsed": false,
    "jupyter": {
     "outputs_hidden": false
    },
    "pycharm": {
     "name": "#%%\n"
    },
    "scrolled": true,
    "tags": []
   },
   "outputs": [
    {
     "name": "stdout",
     "output_type": "stream",
     "text": [
      "\u001b[1mrun_soma_multiple:run_soma_on_multiple_settings:245 -- V48_02_SuperSet -- OC_05_G_03_real_000_synt_100 -- SOMA_unlabeled_mpc -- soma_subject1 -- throw_003 -- Submitting SOMA jobs.\u001b[0m\n",
      "\u001b[1mparallel_tools:run_parallel_jobs:54 -- V48_02_SuperSet -- OC_05_G_03_real_000_synt_100 -- SOMA_unlabeled_mpc -- soma_subject1 -- throw_003 -- #Job(s) submitted: 69\u001b[0m\n",
      "\u001b[1mparallel_tools:run_parallel_jobs:58 -- V48_02_SuperSet -- OC_05_G_03_real_000_synt_100 -- SOMA_unlabeled_mpc -- soma_subject1 -- throw_003 -- max_num_jobs is set to 10. choosing the first #Job(s): 10\u001b[0m\n",
      "\u001b[1mparallel_tools:run_parallel_jobs:67 -- V48_02_SuperSet -- OC_05_G_03_real_000_synt_100 -- SOMA_unlabeled_mpc -- soma_subject1 -- throw_003 -- Will run the jobs in random order.\u001b[0m\n",
      "\u001b[1msoma_processor:__init__:98 -- V48_02_SuperSet -- OC_05_G_03_real_000_synt_100 -- SOMA_unlabeled_mpc -- soma_subject1 -- run_002 -- Starting SOMA on /home/nghorbani/Desktop/SOMA_Test/support_files/evaluation_mocaps/original/SOMA_unlabeled_mpc/soma_subject1/run_002.c3d\u001b[0m\n",
      "\u001b[1mmodel_loader:load_model:91 -- V48_02_SuperSet -- OC_05_G_03_real_000_synt_100 -- SOMA_unlabeled_mpc -- soma_subject1 -- run_002 -- Loaded model in eval mode with trained weights: /home/nghorbani/Desktop/SOMA_Test/training_experiments/V48_02_SuperSet/OC_05_G_03_real_000_synt_100/snapshots/V48_02_SuperSet_epoch=03_val_f1=0.99_val_acc=0.99.ckpt\u001b[0m\n",
      "\u001b[1msoma_processor:__init__:148 -- V48_02_SuperSet -- OC_05_G_03_real_000_synt_100 -- SOMA_unlabeled_mpc -- soma_subject1 -- run_002 -- loaded mocap points. #markers.shape = (1288, 85, 3), frame_rate: 120.0 and available points 61.77%\u001b[0m\n",
      "\u001b[1msoma_processor:__init__:150 -- V48_02_SuperSet -- OC_05_G_03_real_000_synt_100 -- SOMA_unlabeled_mpc -- soma_subject1 -- run_002 -- Maximum number of non-zero points per-frame: 53\u001b[0m\n",
      "\u001b[1msoma_processor:__init__:159 -- V48_02_SuperSet -- OC_05_G_03_real_000_synt_100 -- SOMA_unlabeled_mpc -- soma_subject1 -- run_002 -- SOMA is trained for #86 markers of layout: /home/nghorbani/Desktop/SOMA_Test/data/V48_02_SuperSet/marker_dataset/superset.json\u001b[0m\n",
      "\u001b[1msoma_processor:apply_soma:197 -- V48_02_SuperSet -- OC_05_G_03_real_000_synt_100 -- SOMA_unlabeled_mpc -- soma_subject1 -- run_002 -- Applying SOMA on mocap with batch_size = 512\u001b[0m\n"
     ]
    },
    {
     "name": "stderr",
     "output_type": "stream",
     "text": [
      "100%|████████████████████████████████████████████████████████████████████████████████████████████████████████████████████████████████████████████████████████████████████████████████████████████████████████████████████████████████████████████████████████████████████████████████████████████████████████████| 3/3 [00:00<00:00,  4.08it/s]"
     ]
    },
    {
     "name": "stdout",
     "output_type": "stream",
     "text": [
      "\u001b[1msoma_processor:apply_soma:234 -- V48_02_SuperSet -- OC_05_G_03_real_000_synt_100 -- SOMA_unlabeled_mpc -- soma_subject1 -- run_002 -- SOMA was performing at inf Hz.\u001b[0m\n"
     ]
    },
    {
     "name": "stderr",
     "output_type": "stream",
     "text": [
      "\n"
     ]
    },
    {
     "name": "stdout",
     "output_type": "stream",
     "text": [
      "\u001b[1msoma_processor:label_tracklets:388 -- V48_02_SuperSet -- OC_05_G_03_real_000_synt_100 -- SOMA_unlabeled_mpc -- soma_subject1 -- run_002 -- 53 labels detected\u001b[0m\n",
      "\u001b[32m\u001b[1msoma_processor:label_tracklets:395 -- V48_02_SuperSet -- OC_05_G_03_real_000_synt_100 -- SOMA_unlabeled_mpc -- soma_subject1 -- run_002 -- Tracklet labeling yielded 99.07% non-zero mocap.\u001b[0m\n",
      "\u001b[32m\u001b[1msoma_processor:run_soma_once:446 -- V48_02_SuperSet -- OC_05_G_03_real_000_synt_100 -- SOMA_unlabeled_mpc -- soma_subject1 -- run_002 -- Created /home/nghorbani/Desktop/SOMA_Test/training_experiments/V48_02_SuperSet/OC_05_G_03_real_000_synt_100/evaluations/soma_labeled_mocap_tracklet/SOMA_unlabeled_mpc/soma_subject1/run_002.pkl\u001b[0m\n",
      "\u001b[1msoma_processor:run_soma_once:455 -- V48_02_SuperSet -- OC_05_G_03_real_000_synt_100 -- SOMA_unlabeled_mpc -- soma_subject1 -- run_002 -- Created /home/nghorbani/Desktop/SOMA_Test/training_experiments/V48_02_SuperSet/OC_05_G_03_real_000_synt_100/evaluations/soma_labeled_mocap_tracklet/SOMA_unlabeled_mpc/soma_subject1/run_002.c3d\u001b[0m\n",
      "\u001b[1msoma_processor:run_soma_once:457 -- V48_02_SuperSet -- OC_05_G_03_real_000_synt_100 -- SOMA_unlabeled_mpc -- soma_subject1 -- run_002 -- ----------------\u001b[0m\n",
      "\u001b[1msoma_processor:__init__:98 -- V48_02_SuperSet -- OC_05_G_03_real_000_synt_100 -- SOMA_unlabeled_mpc -- soma_subject1 -- walk_001 -- Starting SOMA on /home/nghorbani/Desktop/SOMA_Test/support_files/evaluation_mocaps/original/SOMA_unlabeled_mpc/soma_subject1/walk_001.c3d\u001b[0m\n"
     ]
    },
    {
     "name": "stderr",
     "output_type": "stream",
     "text": [
      "/is/ps3/nghorbani/opt/anaconda3/envs/soma-public/lib/python3.7/site-packages/moshpp-3.0-py3.7.egg/moshpp/tools/c3d.py:902: UserWarning: missing parameter ANALOG:LABELS\n",
      "  warnings.warn('missing parameter {}'.format(name))\n",
      "/is/ps3/nghorbani/opt/anaconda3/envs/soma-public/lib/python3.7/site-packages/moshpp-3.0-py3.7.egg/moshpp/tools/c3d.py:902: UserWarning: missing parameter ANALOG:DESCRIPTIONS\n",
      "  warnings.warn('missing parameter {}'.format(name))\n"
     ]
    },
    {
     "name": "stdout",
     "output_type": "stream",
     "text": [
      "\u001b[1mmodel_loader:load_model:91 -- V48_02_SuperSet -- OC_05_G_03_real_000_synt_100 -- SOMA_unlabeled_mpc -- soma_subject1 -- walk_001 -- Loaded model in eval mode with trained weights: /home/nghorbani/Desktop/SOMA_Test/training_experiments/V48_02_SuperSet/OC_05_G_03_real_000_synt_100/snapshots/V48_02_SuperSet_epoch=03_val_f1=0.99_val_acc=0.99.ckpt\u001b[0m\n",
      "\u001b[1msoma_processor:__init__:148 -- V48_02_SuperSet -- OC_05_G_03_real_000_synt_100 -- SOMA_unlabeled_mpc -- soma_subject1 -- walk_001 -- loaded mocap points. #markers.shape = (1469, 53, 3), frame_rate: 120.0 and available points 99.91%\u001b[0m\n",
      "\u001b[1msoma_processor:__init__:150 -- V48_02_SuperSet -- OC_05_G_03_real_000_synt_100 -- SOMA_unlabeled_mpc -- soma_subject1 -- walk_001 -- Maximum number of non-zero points per-frame: 53\u001b[0m\n",
      "\u001b[1msoma_processor:__init__:159 -- V48_02_SuperSet -- OC_05_G_03_real_000_synt_100 -- SOMA_unlabeled_mpc -- soma_subject1 -- walk_001 -- SOMA is trained for #86 markers of layout: /home/nghorbani/Desktop/SOMA_Test/data/V48_02_SuperSet/marker_dataset/superset.json\u001b[0m\n",
      "\u001b[1msoma_processor:apply_soma:197 -- V48_02_SuperSet -- OC_05_G_03_real_000_synt_100 -- SOMA_unlabeled_mpc -- soma_subject1 -- walk_001 -- Applying SOMA on mocap with batch_size = 512\u001b[0m\n"
     ]
    },
    {
     "name": "stderr",
     "output_type": "stream",
     "text": [
      "100%|████████████████████████████████████████████████████████████████████████████████████████████████████████████████████████████████████████████████████████████████████████████████████████████████████████████████████████████████████████████████████████████████████████████████████████████████████████████| 3/3 [00:00<00:00,  3.59it/s]"
     ]
    },
    {
     "name": "stdout",
     "output_type": "stream",
     "text": [
      "\u001b[1msoma_processor:apply_soma:234 -- V48_02_SuperSet -- OC_05_G_03_real_000_synt_100 -- SOMA_unlabeled_mpc -- soma_subject1 -- walk_001 -- SOMA was performing at inf Hz.\u001b[0m\n"
     ]
    },
    {
     "name": "stderr",
     "output_type": "stream",
     "text": [
      "\n"
     ]
    },
    {
     "name": "stdout",
     "output_type": "stream",
     "text": [
      "\u001b[1msoma_processor:label_tracklets:388 -- V48_02_SuperSet -- OC_05_G_03_real_000_synt_100 -- SOMA_unlabeled_mpc -- soma_subject1 -- walk_001 -- 53 labels detected\u001b[0m\n",
      "\u001b[32m\u001b[1msoma_processor:label_tracklets:395 -- V48_02_SuperSet -- OC_05_G_03_real_000_synt_100 -- SOMA_unlabeled_mpc -- soma_subject1 -- walk_001 -- Tracklet labeling yielded 99.91% non-zero mocap.\u001b[0m\n",
      "\u001b[32m\u001b[1msoma_processor:run_soma_once:446 -- V48_02_SuperSet -- OC_05_G_03_real_000_synt_100 -- SOMA_unlabeled_mpc -- soma_subject1 -- walk_001 -- Created /home/nghorbani/Desktop/SOMA_Test/training_experiments/V48_02_SuperSet/OC_05_G_03_real_000_synt_100/evaluations/soma_labeled_mocap_tracklet/SOMA_unlabeled_mpc/soma_subject1/walk_001.pkl\u001b[0m\n",
      "\u001b[1msoma_processor:run_soma_once:455 -- V48_02_SuperSet -- OC_05_G_03_real_000_synt_100 -- SOMA_unlabeled_mpc -- soma_subject1 -- walk_001 -- Created /home/nghorbani/Desktop/SOMA_Test/training_experiments/V48_02_SuperSet/OC_05_G_03_real_000_synt_100/evaluations/soma_labeled_mocap_tracklet/SOMA_unlabeled_mpc/soma_subject1/walk_001.c3d\u001b[0m\n",
      "\u001b[1msoma_processor:run_soma_once:457 -- V48_02_SuperSet -- OC_05_G_03_real_000_synt_100 -- SOMA_unlabeled_mpc -- soma_subject1 -- walk_001 -- ----------------\u001b[0m\n",
      "\u001b[1msoma_processor:__init__:98 -- V48_02_SuperSet -- OC_05_G_03_real_000_synt_100 -- SOMA_unlabeled_mpc -- soma_subject1 -- throw_002 -- Starting SOMA on /home/nghorbani/Desktop/SOMA_Test/support_files/evaluation_mocaps/original/SOMA_unlabeled_mpc/soma_subject1/throw_002.c3d\u001b[0m\n",
      "\u001b[1mmodel_loader:load_model:91 -- V48_02_SuperSet -- OC_05_G_03_real_000_synt_100 -- SOMA_unlabeled_mpc -- soma_subject1 -- throw_002 -- Loaded model in eval mode with trained weights: /home/nghorbani/Desktop/SOMA_Test/training_experiments/V48_02_SuperSet/OC_05_G_03_real_000_synt_100/snapshots/V48_02_SuperSet_epoch=03_val_f1=0.99_val_acc=0.99.ckpt\u001b[0m\n",
      "\u001b[1msoma_processor:__init__:148 -- V48_02_SuperSet -- OC_05_G_03_real_000_synt_100 -- SOMA_unlabeled_mpc -- soma_subject1 -- throw_002 -- loaded mocap points. #markers.shape = (1458, 55, 3), frame_rate: 120.0 and available points 96.15%\u001b[0m\n",
      "\u001b[1msoma_processor:__init__:150 -- V48_02_SuperSet -- OC_05_G_03_real_000_synt_100 -- SOMA_unlabeled_mpc -- soma_subject1 -- throw_002 -- Maximum number of non-zero points per-frame: 53\u001b[0m\n",
      "\u001b[1msoma_processor:__init__:159 -- V48_02_SuperSet -- OC_05_G_03_real_000_synt_100 -- SOMA_unlabeled_mpc -- soma_subject1 -- throw_002 -- SOMA is trained for #86 markers of layout: /home/nghorbani/Desktop/SOMA_Test/data/V48_02_SuperSet/marker_dataset/superset.json\u001b[0m\n",
      "\u001b[1msoma_processor:apply_soma:197 -- V48_02_SuperSet -- OC_05_G_03_real_000_synt_100 -- SOMA_unlabeled_mpc -- soma_subject1 -- throw_002 -- Applying SOMA on mocap with batch_size = 512\u001b[0m\n"
     ]
    },
    {
     "name": "stderr",
     "output_type": "stream",
     "text": [
      "100%|████████████████████████████████████████████████████████████████████████████████████████████████████████████████████████████████████████████████████████████████████████████████████████████████████████████████████████████████████████████████████████████████████████████████████████████████████████████| 3/3 [00:00<00:00,  3.68it/s]"
     ]
    },
    {
     "name": "stdout",
     "output_type": "stream",
     "text": [
      "\u001b[1msoma_processor:apply_soma:234 -- V48_02_SuperSet -- OC_05_G_03_real_000_synt_100 -- SOMA_unlabeled_mpc -- soma_subject1 -- throw_002 -- SOMA was performing at inf Hz.\u001b[0m\n"
     ]
    },
    {
     "name": "stderr",
     "output_type": "stream",
     "text": [
      "\n"
     ]
    },
    {
     "name": "stdout",
     "output_type": "stream",
     "text": [
      "\u001b[1msoma_processor:label_tracklets:388 -- V48_02_SuperSet -- OC_05_G_03_real_000_synt_100 -- SOMA_unlabeled_mpc -- soma_subject1 -- throw_002 -- 53 labels detected\u001b[0m\n",
      "\u001b[32m\u001b[1msoma_processor:label_tracklets:395 -- V48_02_SuperSet -- OC_05_G_03_real_000_synt_100 -- SOMA_unlabeled_mpc -- soma_subject1 -- throw_002 -- Tracklet labeling yielded 99.77% non-zero mocap.\u001b[0m\n",
      "\u001b[32m\u001b[1msoma_processor:run_soma_once:446 -- V48_02_SuperSet -- OC_05_G_03_real_000_synt_100 -- SOMA_unlabeled_mpc -- soma_subject1 -- throw_002 -- Created /home/nghorbani/Desktop/SOMA_Test/training_experiments/V48_02_SuperSet/OC_05_G_03_real_000_synt_100/evaluations/soma_labeled_mocap_tracklet/SOMA_unlabeled_mpc/soma_subject1/throw_002.pkl\u001b[0m\n",
      "\u001b[1msoma_processor:run_soma_once:455 -- V48_02_SuperSet -- OC_05_G_03_real_000_synt_100 -- SOMA_unlabeled_mpc -- soma_subject1 -- throw_002 -- Created /home/nghorbani/Desktop/SOMA_Test/training_experiments/V48_02_SuperSet/OC_05_G_03_real_000_synt_100/evaluations/soma_labeled_mocap_tracklet/SOMA_unlabeled_mpc/soma_subject1/throw_002.c3d\u001b[0m\n",
      "\u001b[1msoma_processor:run_soma_once:457 -- V48_02_SuperSet -- OC_05_G_03_real_000_synt_100 -- SOMA_unlabeled_mpc -- soma_subject1 -- throw_002 -- ----------------\u001b[0m\n",
      "\u001b[1msoma_processor:__init__:98 -- V48_02_SuperSet -- OC_05_G_03_real_000_synt_100 -- SOMA_unlabeled_mpc -- soma_subject1 -- dance_002 -- Starting SOMA on /home/nghorbani/Desktop/SOMA_Test/support_files/evaluation_mocaps/original/SOMA_unlabeled_mpc/soma_subject1/dance_002.c3d\u001b[0m\n",
      "\u001b[1mmodel_loader:load_model:91 -- V48_02_SuperSet -- OC_05_G_03_real_000_synt_100 -- SOMA_unlabeled_mpc -- soma_subject1 -- dance_002 -- Loaded model in eval mode with trained weights: /home/nghorbani/Desktop/SOMA_Test/training_experiments/V48_02_SuperSet/OC_05_G_03_real_000_synt_100/snapshots/V48_02_SuperSet_epoch=03_val_f1=0.99_val_acc=0.99.ckpt\u001b[0m\n",
      "\u001b[1msoma_processor:__init__:148 -- V48_02_SuperSet -- OC_05_G_03_real_000_synt_100 -- SOMA_unlabeled_mpc -- soma_subject1 -- dance_002 -- loaded mocap points. #markers.shape = (2013, 58, 3), frame_rate: 120.0 and available points 90.96%\u001b[0m\n",
      "\u001b[1msoma_processor:__init__:150 -- V48_02_SuperSet -- OC_05_G_03_real_000_synt_100 -- SOMA_unlabeled_mpc -- soma_subject1 -- dance_002 -- Maximum number of non-zero points per-frame: 53\u001b[0m\n",
      "\u001b[1msoma_processor:__init__:159 -- V48_02_SuperSet -- OC_05_G_03_real_000_synt_100 -- SOMA_unlabeled_mpc -- soma_subject1 -- dance_002 -- SOMA is trained for #86 markers of layout: /home/nghorbani/Desktop/SOMA_Test/data/V48_02_SuperSet/marker_dataset/superset.json\u001b[0m\n",
      "\u001b[1msoma_processor:apply_soma:197 -- V48_02_SuperSet -- OC_05_G_03_real_000_synt_100 -- SOMA_unlabeled_mpc -- soma_subject1 -- dance_002 -- Applying SOMA on mocap with batch_size = 512\u001b[0m\n"
     ]
    },
    {
     "name": "stderr",
     "output_type": "stream",
     "text": [
      "100%|████████████████████████████████████████████████████████████████████████████████████████████████████████████████████████████████████████████████████████████████████████████████████████████████████████████████████████████████████████████████████████████████████████████████████████████████████████████| 4/4 [00:01<00:00,  3.47it/s]"
     ]
    },
    {
     "name": "stdout",
     "output_type": "stream",
     "text": [
      "\u001b[1msoma_processor:apply_soma:234 -- V48_02_SuperSet -- OC_05_G_03_real_000_synt_100 -- SOMA_unlabeled_mpc -- soma_subject1 -- dance_002 -- SOMA was performing at 2013.0 Hz.\u001b[0m\n"
     ]
    },
    {
     "name": "stderr",
     "output_type": "stream",
     "text": [
      "\n"
     ]
    },
    {
     "name": "stdout",
     "output_type": "stream",
     "text": [
      "\u001b[1msoma_processor:label_tracklets:388 -- V48_02_SuperSet -- OC_05_G_03_real_000_synt_100 -- SOMA_unlabeled_mpc -- soma_subject1 -- dance_002 -- 51 labels detected\u001b[0m\n",
      "\u001b[32m\u001b[1msoma_processor:label_tracklets:395 -- V48_02_SuperSet -- OC_05_G_03_real_000_synt_100 -- SOMA_unlabeled_mpc -- soma_subject1 -- dance_002 -- Tracklet labeling yielded 99.65% non-zero mocap.\u001b[0m\n",
      "\u001b[32m\u001b[1msoma_processor:run_soma_once:446 -- V48_02_SuperSet -- OC_05_G_03_real_000_synt_100 -- SOMA_unlabeled_mpc -- soma_subject1 -- dance_002 -- Created /home/nghorbani/Desktop/SOMA_Test/training_experiments/V48_02_SuperSet/OC_05_G_03_real_000_synt_100/evaluations/soma_labeled_mocap_tracklet/SOMA_unlabeled_mpc/soma_subject1/dance_002.pkl\u001b[0m\n",
      "\u001b[1msoma_processor:run_soma_once:455 -- V48_02_SuperSet -- OC_05_G_03_real_000_synt_100 -- SOMA_unlabeled_mpc -- soma_subject1 -- dance_002 -- Created /home/nghorbani/Desktop/SOMA_Test/training_experiments/V48_02_SuperSet/OC_05_G_03_real_000_synt_100/evaluations/soma_labeled_mocap_tracklet/SOMA_unlabeled_mpc/soma_subject1/dance_002.c3d\u001b[0m\n",
      "\u001b[1msoma_processor:run_soma_once:457 -- V48_02_SuperSet -- OC_05_G_03_real_000_synt_100 -- SOMA_unlabeled_mpc -- soma_subject1 -- dance_002 -- ----------------\u001b[0m\n",
      "\u001b[1msoma_processor:__init__:98 -- V48_02_SuperSet -- OC_05_G_03_real_000_synt_100 -- SOMA_unlabeled_mpc -- soma_subject1 -- kick_003 -- Starting SOMA on /home/nghorbani/Desktop/SOMA_Test/support_files/evaluation_mocaps/original/SOMA_unlabeled_mpc/soma_subject1/kick_003.c3d\u001b[0m\n",
      "\u001b[1mmodel_loader:load_model:91 -- V48_02_SuperSet -- OC_05_G_03_real_000_synt_100 -- SOMA_unlabeled_mpc -- soma_subject1 -- kick_003 -- Loaded model in eval mode with trained weights: /home/nghorbani/Desktop/SOMA_Test/training_experiments/V48_02_SuperSet/OC_05_G_03_real_000_synt_100/snapshots/V48_02_SuperSet_epoch=03_val_f1=0.99_val_acc=0.99.ckpt\u001b[0m\n",
      "\u001b[1msoma_processor:__init__:148 -- V48_02_SuperSet -- OC_05_G_03_real_000_synt_100 -- SOMA_unlabeled_mpc -- soma_subject1 -- kick_003 -- loaded mocap points. #markers.shape = (2279, 59, 3), frame_rate: 120.0 and available points 89.73%\u001b[0m\n",
      "\u001b[1msoma_processor:__init__:150 -- V48_02_SuperSet -- OC_05_G_03_real_000_synt_100 -- SOMA_unlabeled_mpc -- soma_subject1 -- kick_003 -- Maximum number of non-zero points per-frame: 53\u001b[0m\n",
      "\u001b[1msoma_processor:__init__:159 -- V48_02_SuperSet -- OC_05_G_03_real_000_synt_100 -- SOMA_unlabeled_mpc -- soma_subject1 -- kick_003 -- SOMA is trained for #86 markers of layout: /home/nghorbani/Desktop/SOMA_Test/data/V48_02_SuperSet/marker_dataset/superset.json\u001b[0m\n",
      "\u001b[1msoma_processor:apply_soma:197 -- V48_02_SuperSet -- OC_05_G_03_real_000_synt_100 -- SOMA_unlabeled_mpc -- soma_subject1 -- kick_003 -- Applying SOMA on mocap with batch_size = 512\u001b[0m\n"
     ]
    },
    {
     "name": "stderr",
     "output_type": "stream",
     "text": [
      "100%|████████████████████████████████████████████████████████████████████████████████████████████████████████████████████████████████████████████████████████████████████████████████████████████████████████████████████████████████████████████████████████████████████████████████████████████████████████████| 5/5 [00:01<00:00,  3.87it/s]"
     ]
    },
    {
     "name": "stdout",
     "output_type": "stream",
     "text": [
      "\u001b[1msoma_processor:apply_soma:234 -- V48_02_SuperSet -- OC_05_G_03_real_000_synt_100 -- SOMA_unlabeled_mpc -- soma_subject1 -- kick_003 -- SOMA was performing at 2279.0 Hz.\u001b[0m\n"
     ]
    },
    {
     "name": "stderr",
     "output_type": "stream",
     "text": [
      "\n"
     ]
    },
    {
     "name": "stdout",
     "output_type": "stream",
     "text": [
      "\u001b[1msoma_processor:label_tracklets:388 -- V48_02_SuperSet -- OC_05_G_03_real_000_synt_100 -- SOMA_unlabeled_mpc -- soma_subject1 -- kick_003 -- 53 labels detected\u001b[0m\n",
      "\u001b[32m\u001b[1msoma_processor:label_tracklets:395 -- V48_02_SuperSet -- OC_05_G_03_real_000_synt_100 -- SOMA_unlabeled_mpc -- soma_subject1 -- kick_003 -- Tracklet labeling yielded 99.89% non-zero mocap.\u001b[0m\n",
      "\u001b[32m\u001b[1msoma_processor:run_soma_once:446 -- V48_02_SuperSet -- OC_05_G_03_real_000_synt_100 -- SOMA_unlabeled_mpc -- soma_subject1 -- kick_003 -- Created /home/nghorbani/Desktop/SOMA_Test/training_experiments/V48_02_SuperSet/OC_05_G_03_real_000_synt_100/evaluations/soma_labeled_mocap_tracklet/SOMA_unlabeled_mpc/soma_subject1/kick_003.pkl\u001b[0m\n",
      "\u001b[1msoma_processor:run_soma_once:455 -- V48_02_SuperSet -- OC_05_G_03_real_000_synt_100 -- SOMA_unlabeled_mpc -- soma_subject1 -- kick_003 -- Created /home/nghorbani/Desktop/SOMA_Test/training_experiments/V48_02_SuperSet/OC_05_G_03_real_000_synt_100/evaluations/soma_labeled_mocap_tracklet/SOMA_unlabeled_mpc/soma_subject1/kick_003.c3d\u001b[0m\n",
      "\u001b[1msoma_processor:run_soma_once:457 -- V48_02_SuperSet -- OC_05_G_03_real_000_synt_100 -- SOMA_unlabeled_mpc -- soma_subject1 -- kick_003 -- ----------------\u001b[0m\n",
      "\u001b[1msoma_processor:__init__:98 -- V48_02_SuperSet -- OC_05_G_03_real_000_synt_100 -- SOMA_unlabeled_mpc -- soma_subject1 -- random_001 -- Starting SOMA on /home/nghorbani/Desktop/SOMA_Test/support_files/evaluation_mocaps/original/SOMA_unlabeled_mpc/soma_subject1/random_001.c3d\u001b[0m\n",
      "\u001b[1mmodel_loader:load_model:91 -- V48_02_SuperSet -- OC_05_G_03_real_000_synt_100 -- SOMA_unlabeled_mpc -- soma_subject1 -- random_001 -- Loaded model in eval mode with trained weights: /home/nghorbani/Desktop/SOMA_Test/training_experiments/V48_02_SuperSet/OC_05_G_03_real_000_synt_100/snapshots/V48_02_SuperSet_epoch=03_val_f1=0.99_val_acc=0.99.ckpt\u001b[0m\n",
      "\u001b[1msoma_processor:__init__:148 -- V48_02_SuperSet -- OC_05_G_03_real_000_synt_100 -- SOMA_unlabeled_mpc -- soma_subject1 -- random_001 -- loaded mocap points. #markers.shape = (2541, 57, 3), frame_rate: 120.0 and available points 92.79%\u001b[0m\n",
      "\u001b[1msoma_processor:__init__:150 -- V48_02_SuperSet -- OC_05_G_03_real_000_synt_100 -- SOMA_unlabeled_mpc -- soma_subject1 -- random_001 -- Maximum number of non-zero points per-frame: 53\u001b[0m\n",
      "\u001b[1msoma_processor:__init__:159 -- V48_02_SuperSet -- OC_05_G_03_real_000_synt_100 -- SOMA_unlabeled_mpc -- soma_subject1 -- random_001 -- SOMA is trained for #86 markers of layout: /home/nghorbani/Desktop/SOMA_Test/data/V48_02_SuperSet/marker_dataset/superset.json\u001b[0m\n",
      "\u001b[1msoma_processor:apply_soma:197 -- V48_02_SuperSet -- OC_05_G_03_real_000_synt_100 -- SOMA_unlabeled_mpc -- soma_subject1 -- random_001 -- Applying SOMA on mocap with batch_size = 512\u001b[0m\n"
     ]
    },
    {
     "name": "stderr",
     "output_type": "stream",
     "text": [
      "100%|████████████████████████████████████████████████████████████████████████████████████████████████████████████████████████████████████████████████████████████████████████████████████████████████████████████████████████████████████████████████████████████████████████████████████████████████████████████| 5/5 [00:01<00:00,  3.46it/s]"
     ]
    },
    {
     "name": "stdout",
     "output_type": "stream",
     "text": [
      "\u001b[1msoma_processor:apply_soma:234 -- V48_02_SuperSet -- OC_05_G_03_real_000_synt_100 -- SOMA_unlabeled_mpc -- soma_subject1 -- random_001 -- SOMA was performing at 2541.0 Hz.\u001b[0m\n"
     ]
    },
    {
     "name": "stderr",
     "output_type": "stream",
     "text": [
      "\n"
     ]
    },
    {
     "name": "stdout",
     "output_type": "stream",
     "text": [
      "\u001b[1msoma_processor:label_tracklets:388 -- V48_02_SuperSet -- OC_05_G_03_real_000_synt_100 -- SOMA_unlabeled_mpc -- soma_subject1 -- random_001 -- 53 labels detected\u001b[0m\n",
      "\u001b[32m\u001b[1msoma_processor:label_tracklets:395 -- V48_02_SuperSet -- OC_05_G_03_real_000_synt_100 -- SOMA_unlabeled_mpc -- soma_subject1 -- random_001 -- Tracklet labeling yielded 99.80% non-zero mocap.\u001b[0m\n",
      "\u001b[32m\u001b[1msoma_processor:run_soma_once:446 -- V48_02_SuperSet -- OC_05_G_03_real_000_synt_100 -- SOMA_unlabeled_mpc -- soma_subject1 -- random_001 -- Created /home/nghorbani/Desktop/SOMA_Test/training_experiments/V48_02_SuperSet/OC_05_G_03_real_000_synt_100/evaluations/soma_labeled_mocap_tracklet/SOMA_unlabeled_mpc/soma_subject1/random_001.pkl\u001b[0m\n",
      "\u001b[1msoma_processor:run_soma_once:455 -- V48_02_SuperSet -- OC_05_G_03_real_000_synt_100 -- SOMA_unlabeled_mpc -- soma_subject1 -- random_001 -- Created /home/nghorbani/Desktop/SOMA_Test/training_experiments/V48_02_SuperSet/OC_05_G_03_real_000_synt_100/evaluations/soma_labeled_mocap_tracklet/SOMA_unlabeled_mpc/soma_subject1/random_001.c3d\u001b[0m\n",
      "\u001b[1msoma_processor:run_soma_once:457 -- V48_02_SuperSet -- OC_05_G_03_real_000_synt_100 -- SOMA_unlabeled_mpc -- soma_subject1 -- random_001 -- ----------------\u001b[0m\n",
      "\u001b[1msoma_processor:__init__:98 -- V48_02_SuperSet -- OC_05_G_03_real_000_synt_100 -- SOMA_unlabeled_mpc -- soma_subject1 -- squat_001 -- Starting SOMA on /home/nghorbani/Desktop/SOMA_Test/support_files/evaluation_mocaps/original/SOMA_unlabeled_mpc/soma_subject1/squat_001.c3d\u001b[0m\n",
      "\u001b[1mmodel_loader:load_model:91 -- V48_02_SuperSet -- OC_05_G_03_real_000_synt_100 -- SOMA_unlabeled_mpc -- soma_subject1 -- squat_001 -- Loaded model in eval mode with trained weights: /home/nghorbani/Desktop/SOMA_Test/training_experiments/V48_02_SuperSet/OC_05_G_03_real_000_synt_100/snapshots/V48_02_SuperSet_epoch=03_val_f1=0.99_val_acc=0.99.ckpt\u001b[0m\n",
      "\u001b[1msoma_processor:__init__:148 -- V48_02_SuperSet -- OC_05_G_03_real_000_synt_100 -- SOMA_unlabeled_mpc -- soma_subject1 -- squat_001 -- loaded mocap points. #markers.shape = (1324, 54, 3), frame_rate: 120.0 and available points 98.06%\u001b[0m\n",
      "\u001b[1msoma_processor:__init__:150 -- V48_02_SuperSet -- OC_05_G_03_real_000_synt_100 -- SOMA_unlabeled_mpc -- soma_subject1 -- squat_001 -- Maximum number of non-zero points per-frame: 53\u001b[0m\n",
      "\u001b[1msoma_processor:__init__:159 -- V48_02_SuperSet -- OC_05_G_03_real_000_synt_100 -- SOMA_unlabeled_mpc -- soma_subject1 -- squat_001 -- SOMA is trained for #86 markers of layout: /home/nghorbani/Desktop/SOMA_Test/data/V48_02_SuperSet/marker_dataset/superset.json\u001b[0m\n",
      "\u001b[1msoma_processor:apply_soma:197 -- V48_02_SuperSet -- OC_05_G_03_real_000_synt_100 -- SOMA_unlabeled_mpc -- soma_subject1 -- squat_001 -- Applying SOMA on mocap with batch_size = 512\u001b[0m\n"
     ]
    },
    {
     "name": "stderr",
     "output_type": "stream",
     "text": [
      "100%|████████████████████████████████████████████████████████████████████████████████████████████████████████████████████████████████████████████████████████████████████████████████████████████████████████████████████████████████████████████████████████████████████████████████████████████████████████████| 3/3 [00:00<00:00,  4.04it/s]"
     ]
    },
    {
     "name": "stdout",
     "output_type": "stream",
     "text": [
      "\u001b[1msoma_processor:apply_soma:234 -- V48_02_SuperSet -- OC_05_G_03_real_000_synt_100 -- SOMA_unlabeled_mpc -- soma_subject1 -- squat_001 -- SOMA was performing at inf Hz.\u001b[0m\n"
     ]
    },
    {
     "name": "stderr",
     "output_type": "stream",
     "text": [
      "\n"
     ]
    },
    {
     "name": "stdout",
     "output_type": "stream",
     "text": [
      "\u001b[1msoma_processor:label_tracklets:388 -- V48_02_SuperSet -- OC_05_G_03_real_000_synt_100 -- SOMA_unlabeled_mpc -- soma_subject1 -- squat_001 -- 53 labels detected\u001b[0m\n",
      "\u001b[32m\u001b[1msoma_processor:label_tracklets:395 -- V48_02_SuperSet -- OC_05_G_03_real_000_synt_100 -- SOMA_unlabeled_mpc -- soma_subject1 -- squat_001 -- Tracklet labeling yielded 99.91% non-zero mocap.\u001b[0m\n",
      "\u001b[32m\u001b[1msoma_processor:run_soma_once:446 -- V48_02_SuperSet -- OC_05_G_03_real_000_synt_100 -- SOMA_unlabeled_mpc -- soma_subject1 -- squat_001 -- Created /home/nghorbani/Desktop/SOMA_Test/training_experiments/V48_02_SuperSet/OC_05_G_03_real_000_synt_100/evaluations/soma_labeled_mocap_tracklet/SOMA_unlabeled_mpc/soma_subject1/squat_001.pkl\u001b[0m\n",
      "\u001b[1msoma_processor:run_soma_once:455 -- V48_02_SuperSet -- OC_05_G_03_real_000_synt_100 -- SOMA_unlabeled_mpc -- soma_subject1 -- squat_001 -- Created /home/nghorbani/Desktop/SOMA_Test/training_experiments/V48_02_SuperSet/OC_05_G_03_real_000_synt_100/evaluations/soma_labeled_mocap_tracklet/SOMA_unlabeled_mpc/soma_subject1/squat_001.c3d\u001b[0m\n",
      "\u001b[1msoma_processor:run_soma_once:457 -- V48_02_SuperSet -- OC_05_G_03_real_000_synt_100 -- SOMA_unlabeled_mpc -- soma_subject1 -- squat_001 -- ----------------\u001b[0m\n",
      "\u001b[1msoma_processor:__init__:98 -- V48_02_SuperSet -- OC_05_G_03_real_000_synt_100 -- SOMA_unlabeled_mpc -- soma_subject1 -- run_003 -- Starting SOMA on /home/nghorbani/Desktop/SOMA_Test/support_files/evaluation_mocaps/original/SOMA_unlabeled_mpc/soma_subject1/run_003.c3d\u001b[0m\n",
      "\u001b[1mmodel_loader:load_model:91 -- V48_02_SuperSet -- OC_05_G_03_real_000_synt_100 -- SOMA_unlabeled_mpc -- soma_subject1 -- run_003 -- Loaded model in eval mode with trained weights: /home/nghorbani/Desktop/SOMA_Test/training_experiments/V48_02_SuperSet/OC_05_G_03_real_000_synt_100/snapshots/V48_02_SuperSet_epoch=03_val_f1=0.99_val_acc=0.99.ckpt\u001b[0m\n",
      "\u001b[1msoma_processor:__init__:148 -- V48_02_SuperSet -- OC_05_G_03_real_000_synt_100 -- SOMA_unlabeled_mpc -- soma_subject1 -- run_003 -- loaded mocap points. #markers.shape = (1383, 58, 3), frame_rate: 120.0 and available points 91.22%\u001b[0m\n",
      "\u001b[1msoma_processor:__init__:150 -- V48_02_SuperSet -- OC_05_G_03_real_000_synt_100 -- SOMA_unlabeled_mpc -- soma_subject1 -- run_003 -- Maximum number of non-zero points per-frame: 53\u001b[0m\n",
      "\u001b[1msoma_processor:__init__:159 -- V48_02_SuperSet -- OC_05_G_03_real_000_synt_100 -- SOMA_unlabeled_mpc -- soma_subject1 -- run_003 -- SOMA is trained for #86 markers of layout: /home/nghorbani/Desktop/SOMA_Test/data/V48_02_SuperSet/marker_dataset/superset.json\u001b[0m\n",
      "\u001b[1msoma_processor:apply_soma:197 -- V48_02_SuperSet -- OC_05_G_03_real_000_synt_100 -- SOMA_unlabeled_mpc -- soma_subject1 -- run_003 -- Applying SOMA on mocap with batch_size = 512\u001b[0m\n"
     ]
    },
    {
     "name": "stderr",
     "output_type": "stream",
     "text": [
      "100%|████████████████████████████████████████████████████████████████████████████████████████████████████████████████████████████████████████████████████████████████████████████████████████████████████████████████████████████████████████████████████████████████████████████████████████████████████████████| 3/3 [00:00<00:00,  3.82it/s]"
     ]
    },
    {
     "name": "stdout",
     "output_type": "stream",
     "text": [
      "\u001b[1msoma_processor:apply_soma:234 -- V48_02_SuperSet -- OC_05_G_03_real_000_synt_100 -- SOMA_unlabeled_mpc -- soma_subject1 -- run_003 -- SOMA was performing at inf Hz.\u001b[0m\n"
     ]
    },
    {
     "name": "stderr",
     "output_type": "stream",
     "text": [
      "\n"
     ]
    },
    {
     "name": "stdout",
     "output_type": "stream",
     "text": [
      "\u001b[1msoma_processor:label_tracklets:388 -- V48_02_SuperSet -- OC_05_G_03_real_000_synt_100 -- SOMA_unlabeled_mpc -- soma_subject1 -- run_003 -- 53 labels detected\u001b[0m\n",
      "\u001b[32m\u001b[1msoma_processor:label_tracklets:395 -- V48_02_SuperSet -- OC_05_G_03_real_000_synt_100 -- SOMA_unlabeled_mpc -- soma_subject1 -- run_003 -- Tracklet labeling yielded 99.83% non-zero mocap.\u001b[0m\n",
      "\u001b[32m\u001b[1msoma_processor:run_soma_once:446 -- V48_02_SuperSet -- OC_05_G_03_real_000_synt_100 -- SOMA_unlabeled_mpc -- soma_subject1 -- run_003 -- Created /home/nghorbani/Desktop/SOMA_Test/training_experiments/V48_02_SuperSet/OC_05_G_03_real_000_synt_100/evaluations/soma_labeled_mocap_tracklet/SOMA_unlabeled_mpc/soma_subject1/run_003.pkl\u001b[0m\n",
      "\u001b[1msoma_processor:run_soma_once:455 -- V48_02_SuperSet -- OC_05_G_03_real_000_synt_100 -- SOMA_unlabeled_mpc -- soma_subject1 -- run_003 -- Created /home/nghorbani/Desktop/SOMA_Test/training_experiments/V48_02_SuperSet/OC_05_G_03_real_000_synt_100/evaluations/soma_labeled_mocap_tracklet/SOMA_unlabeled_mpc/soma_subject1/run_003.c3d\u001b[0m\n",
      "\u001b[1msoma_processor:run_soma_once:457 -- V48_02_SuperSet -- OC_05_G_03_real_000_synt_100 -- SOMA_unlabeled_mpc -- soma_subject1 -- run_003 -- ----------------\u001b[0m\n",
      "\u001b[1msoma_processor:__init__:98 -- V48_02_SuperSet -- OC_05_G_03_real_000_synt_100 -- SOMA_unlabeled_mpc -- soma_subject1 -- kick_002 -- Starting SOMA on /home/nghorbani/Desktop/SOMA_Test/support_files/evaluation_mocaps/original/SOMA_unlabeled_mpc/soma_subject1/kick_002.c3d\u001b[0m\n",
      "\u001b[1mmodel_loader:load_model:91 -- V48_02_SuperSet -- OC_05_G_03_real_000_synt_100 -- SOMA_unlabeled_mpc -- soma_subject1 -- kick_002 -- Loaded model in eval mode with trained weights: /home/nghorbani/Desktop/SOMA_Test/training_experiments/V48_02_SuperSet/OC_05_G_03_real_000_synt_100/snapshots/V48_02_SuperSet_epoch=03_val_f1=0.99_val_acc=0.99.ckpt\u001b[0m\n",
      "\u001b[1msoma_processor:__init__:148 -- V48_02_SuperSet -- OC_05_G_03_real_000_synt_100 -- SOMA_unlabeled_mpc -- soma_subject1 -- kick_002 -- loaded mocap points. #markers.shape = (2457, 56, 3), frame_rate: 120.0 and available points 94.63%\u001b[0m\n",
      "\u001b[1msoma_processor:__init__:150 -- V48_02_SuperSet -- OC_05_G_03_real_000_synt_100 -- SOMA_unlabeled_mpc -- soma_subject1 -- kick_002 -- Maximum number of non-zero points per-frame: 53\u001b[0m\n",
      "\u001b[1msoma_processor:__init__:159 -- V48_02_SuperSet -- OC_05_G_03_real_000_synt_100 -- SOMA_unlabeled_mpc -- soma_subject1 -- kick_002 -- SOMA is trained for #86 markers of layout: /home/nghorbani/Desktop/SOMA_Test/data/V48_02_SuperSet/marker_dataset/superset.json\u001b[0m\n",
      "\u001b[1msoma_processor:apply_soma:197 -- V48_02_SuperSet -- OC_05_G_03_real_000_synt_100 -- SOMA_unlabeled_mpc -- soma_subject1 -- kick_002 -- Applying SOMA on mocap with batch_size = 512\u001b[0m\n"
     ]
    },
    {
     "name": "stderr",
     "output_type": "stream",
     "text": [
      "100%|████████████████████████████████████████████████████████████████████████████████████████████████████████████████████████████████████████████████████████████████████████████████████████████████████████████████████████████████████████████████████████████████████████████████████████████████████████████| 5/5 [00:01<00:00,  3.60it/s]"
     ]
    },
    {
     "name": "stdout",
     "output_type": "stream",
     "text": [
      "\u001b[1msoma_processor:apply_soma:234 -- V48_02_SuperSet -- OC_05_G_03_real_000_synt_100 -- SOMA_unlabeled_mpc -- soma_subject1 -- kick_002 -- SOMA was performing at 2457.0 Hz.\u001b[0m\n"
     ]
    },
    {
     "name": "stderr",
     "output_type": "stream",
     "text": [
      "\n"
     ]
    },
    {
     "name": "stdout",
     "output_type": "stream",
     "text": [
      "\u001b[1msoma_processor:label_tracklets:388 -- V48_02_SuperSet -- OC_05_G_03_real_000_synt_100 -- SOMA_unlabeled_mpc -- soma_subject1 -- kick_002 -- 53 labels detected\u001b[0m\n",
      "\u001b[32m\u001b[1msoma_processor:label_tracklets:395 -- V48_02_SuperSet -- OC_05_G_03_real_000_synt_100 -- SOMA_unlabeled_mpc -- soma_subject1 -- kick_002 -- Tracklet labeling yielded 99.02% non-zero mocap.\u001b[0m\n",
      "\u001b[32m\u001b[1msoma_processor:run_soma_once:446 -- V48_02_SuperSet -- OC_05_G_03_real_000_synt_100 -- SOMA_unlabeled_mpc -- soma_subject1 -- kick_002 -- Created /home/nghorbani/Desktop/SOMA_Test/training_experiments/V48_02_SuperSet/OC_05_G_03_real_000_synt_100/evaluations/soma_labeled_mocap_tracklet/SOMA_unlabeled_mpc/soma_subject1/kick_002.pkl\u001b[0m\n",
      "\u001b[1msoma_processor:run_soma_once:455 -- V48_02_SuperSet -- OC_05_G_03_real_000_synt_100 -- SOMA_unlabeled_mpc -- soma_subject1 -- kick_002 -- Created /home/nghorbani/Desktop/SOMA_Test/training_experiments/V48_02_SuperSet/OC_05_G_03_real_000_synt_100/evaluations/soma_labeled_mocap_tracklet/SOMA_unlabeled_mpc/soma_subject1/kick_002.c3d\u001b[0m\n",
      "\u001b[1msoma_processor:run_soma_once:457 -- V48_02_SuperSet -- OC_05_G_03_real_000_synt_100 -- SOMA_unlabeled_mpc -- soma_subject1 -- kick_002 -- ----------------\u001b[0m\n",
      "\u001b[1msoma_processor:__init__:98 -- V48_02_SuperSet -- OC_05_G_03_real_000_synt_100 -- SOMA_unlabeled_mpc -- soma_subject1 -- throw_003 -- Starting SOMA on /home/nghorbani/Desktop/SOMA_Test/support_files/evaluation_mocaps/original/SOMA_unlabeled_mpc/soma_subject1/throw_003.c3d\u001b[0m\n",
      "\u001b[1mmodel_loader:load_model:91 -- V48_02_SuperSet -- OC_05_G_03_real_000_synt_100 -- SOMA_unlabeled_mpc -- soma_subject1 -- throw_003 -- Loaded model in eval mode with trained weights: /home/nghorbani/Desktop/SOMA_Test/training_experiments/V48_02_SuperSet/OC_05_G_03_real_000_synt_100/snapshots/V48_02_SuperSet_epoch=03_val_f1=0.99_val_acc=0.99.ckpt\u001b[0m\n",
      "\u001b[1msoma_processor:__init__:148 -- V48_02_SuperSet -- OC_05_G_03_real_000_synt_100 -- SOMA_unlabeled_mpc -- soma_subject1 -- throw_003 -- loaded mocap points. #markers.shape = (2336, 55, 3), frame_rate: 120.0 and available points 96.26%\u001b[0m\n",
      "\u001b[1msoma_processor:__init__:150 -- V48_02_SuperSet -- OC_05_G_03_real_000_synt_100 -- SOMA_unlabeled_mpc -- soma_subject1 -- throw_003 -- Maximum number of non-zero points per-frame: 53\u001b[0m\n",
      "\u001b[1msoma_processor:__init__:159 -- V48_02_SuperSet -- OC_05_G_03_real_000_synt_100 -- SOMA_unlabeled_mpc -- soma_subject1 -- throw_003 -- SOMA is trained for #86 markers of layout: /home/nghorbani/Desktop/SOMA_Test/data/V48_02_SuperSet/marker_dataset/superset.json\u001b[0m\n",
      "\u001b[1msoma_processor:apply_soma:197 -- V48_02_SuperSet -- OC_05_G_03_real_000_synt_100 -- SOMA_unlabeled_mpc -- soma_subject1 -- throw_003 -- Applying SOMA on mocap with batch_size = 512\u001b[0m\n"
     ]
    },
    {
     "name": "stderr",
     "output_type": "stream",
     "text": [
      "100%|████████████████████████████████████████████████████████████████████████████████████████████████████████████████████████████████████████████████████████████████████████████████████████████████████████████████████████████████████████████████████████████████████████████████████████████████████████████| 5/5 [00:01<00:00,  3.85it/s]"
     ]
    },
    {
     "name": "stdout",
     "output_type": "stream",
     "text": [
      "\u001b[1msoma_processor:apply_soma:234 -- V48_02_SuperSet -- OC_05_G_03_real_000_synt_100 -- SOMA_unlabeled_mpc -- soma_subject1 -- throw_003 -- SOMA was performing at inf Hz.\u001b[0m\n"
     ]
    },
    {
     "name": "stderr",
     "output_type": "stream",
     "text": [
      "\n"
     ]
    },
    {
     "name": "stdout",
     "output_type": "stream",
     "text": [
      "\u001b[1msoma_processor:label_tracklets:388 -- V48_02_SuperSet -- OC_05_G_03_real_000_synt_100 -- SOMA_unlabeled_mpc -- soma_subject1 -- throw_003 -- 53 labels detected\u001b[0m\n",
      "\u001b[32m\u001b[1msoma_processor:label_tracklets:395 -- V48_02_SuperSet -- OC_05_G_03_real_000_synt_100 -- SOMA_unlabeled_mpc -- soma_subject1 -- throw_003 -- Tracklet labeling yielded 99.89% non-zero mocap.\u001b[0m\n",
      "\u001b[32m\u001b[1msoma_processor:run_soma_once:446 -- V48_02_SuperSet -- OC_05_G_03_real_000_synt_100 -- SOMA_unlabeled_mpc -- soma_subject1 -- throw_003 -- Created /home/nghorbani/Desktop/SOMA_Test/training_experiments/V48_02_SuperSet/OC_05_G_03_real_000_synt_100/evaluations/soma_labeled_mocap_tracklet/SOMA_unlabeled_mpc/soma_subject1/throw_003.pkl\u001b[0m\n",
      "\u001b[1msoma_processor:run_soma_once:455 -- V48_02_SuperSet -- OC_05_G_03_real_000_synt_100 -- SOMA_unlabeled_mpc -- soma_subject1 -- throw_003 -- Created /home/nghorbani/Desktop/SOMA_Test/training_experiments/V48_02_SuperSet/OC_05_G_03_real_000_synt_100/evaluations/soma_labeled_mocap_tracklet/SOMA_unlabeled_mpc/soma_subject1/throw_003.c3d\u001b[0m\n",
      "\u001b[1msoma_processor:run_soma_once:457 -- V48_02_SuperSet -- OC_05_G_03_real_000_synt_100 -- SOMA_unlabeled_mpc -- soma_subject1 -- throw_003 -- ----------------\u001b[0m\n"
     ]
    }
   ],
   "source": [
    "run_soma_on_multiple_settings(\n",
    "    soma_expr_ids=[\n",
    "        soma_expr_id,\n",
    "    ],\n",
    "    soma_mocap_target_ds_names=[\n",
    "        'SOMA_unlabeled_mpc',\n",
    "    ],\n",
    "    soma_data_ids=[\n",
    "        'OC_05_G_03_real_000_synt_100',\n",
    "    ],\n",
    "    soma_cfg={\n",
    "        'soma.batch_size': 256,\n",
    "        'dirs.support_base_dir':support_base_dir,\n",
    "        'mocap.unit': 'mm',\n",
    "        'save_c3d': True,\n",
    "        'keep_nan_points': True,\n",
    "        'remove_zero_trajectories': True\n",
    "    },\n",
    "    parallel_cfg={\n",
    "        'max_num_jobs': 10,# comment to run on whole dataset\n",
    "        'randomly_run_jobs': True,\n",
    "    },\n",
    "    run_tasks=[\n",
    "        'soma',\n",
    "    ],\n",
    "    mocap_base_dir = mocap_base_dir,\n",
    "    soma_work_base_dir=soma_work_base_dir,\n",
    "    mocap_ext='.c3d'\n",
    ")"
   ]
  },
  {
   "cell_type": "markdown",
   "metadata": {
    "pycharm": {
     "name": "#%% md\n"
    }
   },
   "source": [
    "In the output log above, take a note of the green line with the content like below:\n",
    "\n",
    "```` soma_processor:label_tracklets:395 -- V48_02_SuperSet -- OC_05_G_03_real_000_synt_100 -- SOMA_unlabeled_mpc -- soma_subject1 -- dance_003 -- Tracklet labeling yielded 99.67% non-zero mocap. ````\n",
    "\n",
    "One way to look for successful labeling is the amount of non-zero markers the process yielded; i.e. *Tracklet labeling yielded 99.67% non-zero mocap.*\n",
    "This is just sign that things *might have been gone correct.*\n",
    "Now if this value was down to ~50% then most probably you have turned off the 'remove_zero_trajectories'.\n",
    "Set it to True and the number will go up; i.e. ```` 'remove_zero_trajectories': True ````.\n",
    "Alternatively, the number can be very low, i.e. <20%, in which case most probably you have set the units or rotation wrong.\n",
    "\n",
    "Go ahead and check for the c3d files located at:\n",
    "```` training_experiments/V48_02_SuperSet/OC_05_G_03_real_000_synt_100/evaluations/soma_labeled_mocap_tracklet/SOMA_unlabeled_mpc ````.\n",
    "They should already be in good shape.\n",
    "Choose one, and open it in [Mokka](https://biomechanical-toolkit.github.io/mokka/).\n",
    "Have in mind that SuperSet model is blind to the actual markerlayout used for the capture.\n",
    "\n",
    "That is why we did not train a new model for our mocap dataset.\n",
    "SOMA is trained to be robust against subject shape and pose variations.\n",
    "Hence, you can apply the SuperSet model basically on any single subject, body only MPC data that you can put your hands on.\n",
    "\n",
    "You can either go ahead and mosh the created c3d files, or you grab a c3d frame where you think is\n",
    "most representative of the markerlayout(s) used for the dataset and train a new SOMA for it.\n",
    "If you chose to mosh the dataset directly without training a specific SOMA, then we would suggest using\n",
    "```` mosh_stagei_perseq=True ```` in call for 'run_soma_on_multiple_settings'.\n",
    "This way MoSh stage-I would be applied on every sequence so in case one label is assigned to different locations MoSh can fix that.\n"
   ]
  }
 ],
 "metadata": {
  "kernelspec": {
   "display_name": "Python 3 (ipykernel)",
   "language": "python",
   "name": "python3"
  },
  "language_info": {
   "codemirror_mode": {
    "name": "ipython",
    "version": 3
   },
   "file_extension": ".py",
   "mimetype": "text/x-python",
   "name": "python",
   "nbconvert_exporter": "python",
   "pygments_lexer": "ipython3",
   "version": "3.7.11"
  }
 },
 "nbformat": 4,
 "nbformat_minor": 4
}
